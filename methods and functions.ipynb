{
 "cells": [
  {
   "cell_type": "markdown",
   "metadata": {},
   "source": [
    "# To get help on editors \n",
    "\n",
    "mylist= []\n",
    "mylist.<function name e.g insert> then press shift+tab // If using notebook\n",
    "help(mylist.insert) // If using pycharm\n",
    "\n"
   ]
  },
  {
   "cell_type": "markdown",
   "metadata": {},
   "source": [
    "# Function\n",
    "\n",
    "def name_of_function(): // snake case\n",
    "* Doc string in ''' '''\n",
    "\n",
    "* default value in function paraeter,which is used when no argument is passed.\n",
    "e.g.\n",
    "def say_hello(name = \"Name\"):\n",
    "    print(\"Hello \"+name)\n",
    "say_hello()\n",
    "\n",
    "// if run without any argument passed, then o/p is:\n",
    "O/p : Hello Name // (defalut value passed)\n",
    "\n",
    " # Pig latin translator\n",
    " \n",
    " # *args and **kwargs :\n",
    " \n",
    " *args takes in as tuples\n",
    " ** kwargs takes in as dictionary\n",
    " \n",
    " in *args and ** kwargs user can pass as many arguments as he wants.\n",
    " "
   ]
  },
  {
   "cell_type": "code",
   "execution_count": 37,
   "metadata": {},
   "outputs": [],
   "source": [
    "# Example of *args and **kwargs\n",
    "def myfunc(*args, **kwargs):\n",
    "    print(args) # parameters gets stored in args as tuple\n",
    "    print(kwargs) # Parameters gets stored here in form of dictionay\n",
    "    print('I would like {} {}'.format(args[0],kwargs['food']))\n",
    "    "
   ]
  },
  {
   "cell_type": "code",
   "execution_count": 38,
   "metadata": {},
   "outputs": [
    {
     "name": "stdout",
     "output_type": "stream",
     "text": [
      "('shashank', 'pathak')\n",
      "{'food': 'egg', 'veggie': 'potato'}\n",
      "I would like shashank egg\n"
     ]
    }
   ],
   "source": [
    "myfunc('shashank','pathak', food='egg', veggie='potato')"
   ]
  },
  {
   "cell_type": "code",
   "execution_count": 4,
   "metadata": {},
   "outputs": [],
   "source": [
    "def myfunc(*args):\n",
    "    return [i for i in args if i%2==0]"
   ]
  },
  {
   "cell_type": "code",
   "execution_count": 5,
   "metadata": {},
   "outputs": [
    {
     "data": {
      "text/plain": [
       "[2, 4, 6]"
      ]
     },
     "execution_count": 5,
     "metadata": {},
     "output_type": "execute_result"
    }
   ],
   "source": [
    "myfunc(2,3,4,5,6)"
   ]
  },
  {
   "cell_type": "code",
   "execution_count": 27,
   "metadata": {},
   "outputs": [],
   "source": [
    "def myfunc(string):\n",
    "    mod_str=[]\n",
    "    for index in range(0,len(string)):\n",
    "        if index%2==0:\n",
    "            mod_str.append(string[index].upper())\n",
    "        else:\n",
    "            mod_str.append(string[index].lower())\n",
    "            \n",
    "    return(''.join(mod_str))\n",
    "    "
   ]
  },
  {
   "cell_type": "code",
   "execution_count": 28,
   "metadata": {},
   "outputs": [],
   "source": [
    "x=myfunc('abcd')"
   ]
  },
  {
   "cell_type": "code",
   "execution_count": 29,
   "metadata": {},
   "outputs": [
    {
     "data": {
      "text/plain": [
       "'AbCd'"
      ]
     },
     "execution_count": 29,
     "metadata": {},
     "output_type": "execute_result"
    }
   ],
   "source": [
    "x"
   ]
  },
  {
   "cell_type": "code",
   "execution_count": 40,
   "metadata": {},
   "outputs": [],
   "source": [
    "x = []"
   ]
  },
  {
   "cell_type": "code",
   "execution_count": null,
   "metadata": {},
   "outputs": [],
   "source": []
  },
  {
   "cell_type": "code",
   "execution_count": 44,
   "metadata": {},
   "outputs": [],
   "source": [
    "def check(lst):\n",
    "    last = lst[0]\n",
    "    for num in lst[1:]:\n",
    "        if num == last:\n",
    "            return True\n",
    "        last = num\n",
    "    return False"
   ]
  },
  {
   "cell_type": "code",
   "execution_count": 51,
   "metadata": {},
   "outputs": [],
   "source": [
    "lst = [1, 1, 3, 4, 1, 5, 6]"
   ]
  },
  {
   "cell_type": "code",
   "execution_count": 50,
   "metadata": {},
   "outputs": [
    {
     "data": {
      "text/plain": [
       "True"
      ]
     },
     "execution_count": 50,
     "metadata": {},
     "output_type": "execute_result"
    }
   ],
   "source": [
    "check(lst)"
   ]
  },
  {
   "cell_type": "code",
   "execution_count": null,
   "metadata": {},
   "outputs": [],
   "source": []
  }
 ],
 "metadata": {
  "kernelspec": {
   "display_name": "Python 3",
   "language": "python",
   "name": "python3"
  },
  "language_info": {
   "codemirror_mode": {
    "name": "ipython",
    "version": 3
   },
   "file_extension": ".py",
   "mimetype": "text/x-python",
   "name": "python",
   "nbconvert_exporter": "python",
   "pygments_lexer": "ipython3",
   "version": "3.7.6"
  }
 },
 "nbformat": 4,
 "nbformat_minor": 4
}
