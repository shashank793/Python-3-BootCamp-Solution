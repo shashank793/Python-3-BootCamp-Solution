{
 "cells": [
  {
   "cell_type": "code",
   "execution_count": 2,
   "metadata": {},
   "outputs": [],
   "source": [
    "class Dog():\n",
    "    # Class Object Attribute\n",
    "    # Will be same for any instance of a class\n",
    "    species = 'Mammal' # This will be universal for any instance\n",
    "    \n",
    "    def __init__(self, breed, name, spots):\n",
    "    # Attributes\n",
    "    # Get the attributes in the arguments through parameter\n",
    "    # Assign it using self.attribute_name\n",
    "    # Note : attribute can be of any name, but by convention attribute name should be equal to the arguments passed \n",
    "        self.breed = breed\n",
    "        self.name = name\n",
    "        self.spots = spots"
   ]
  },
  {
   "cell_type": "code",
   "execution_count": 4,
   "metadata": {},
   "outputs": [],
   "source": [
    "my_dog = Dog(name='Tom', breed='Lab', spots=False)"
   ]
  },
  {
   "cell_type": "code",
   "execution_count": 5,
   "metadata": {},
   "outputs": [
    {
     "data": {
      "text/plain": [
       "'Mammal'"
      ]
     },
     "execution_count": 5,
     "metadata": {},
     "output_type": "execute_result"
    }
   ],
   "source": [
    "my_dog.species"
   ]
  },
  {
   "cell_type": "markdown",
   "metadata": {},
   "source": [
    "# Methods\n",
    "\n",
    "* Operations or Actions are methods\n",
    "* Basically, function defined in a class is called method. It is basically works with the object in some way\n",
    "\n",
    "# Difference between attribute and methods :\n",
    "\n",
    "* <b>Not just in python, but also in other OO languages like C++, Java etc.. attributes are the features of the objects or the variables used in a class whereas the methods are the operations or activities performed by that object defined as functions in the class. </b>\n",
    "* <b>Difference between Attribute and Method is in the way we call them.</b>\n",
    "* <b>Atrritubes are not something which we excute instead, it's something a characteristic of the object we call back</b>\n",
    "* <b>Methods are something which needs to be executed, and alwyas called using () </b>\n",
    "\n",
    "* e.g. <b>in the code below</b>:\n",
    "* my_dog.species is an attribute of the instance. \n",
    "* my_dog.bark() is a method, which will be executed upon call"
   ]
  },
  {
   "cell_type": "code",
   "execution_count": 26,
   "metadata": {},
   "outputs": [],
   "source": [
    "class Dog():\n",
    "    # Class Object Attribute\n",
    "    # Will be same for any instance of a class\n",
    "    species = 'Mammal' # This will be universal for any instance\n",
    "    \n",
    "    def __init__(self, breed, name):\n",
    "    # Attributes\n",
    "    # Get the attributes in the arguments through parameter\n",
    "    # Assign it using self.attribute_name\n",
    "    # Note : attribute can be of any name, but by convention attribute name should be equal to the arguments passed \n",
    "        self.breed = breed\n",
    "        self.name = name\n",
    "        \n",
    "    def bark(self,name):\n",
    "        print(\"Woof {0}!! My name is {1}\".format(name,self.breed))"
   ]
  },
  {
   "cell_type": "code",
   "execution_count": 29,
   "metadata": {},
   "outputs": [],
   "source": [
    "my_dog = Dog('lab','Frankie')"
   ]
  },
  {
   "cell_type": "code",
   "execution_count": 30,
   "metadata": {},
   "outputs": [
    {
     "name": "stdout",
     "output_type": "stream",
     "text": [
      "Woof Shashank!! My name is lab\n"
     ]
    }
   ],
   "source": [
    "my_dog.bark('Shashank')"
   ]
  },
  {
   "cell_type": "code",
   "execution_count": 31,
   "metadata": {},
   "outputs": [
    {
     "name": "stdout",
     "output_type": "stream",
     "text": [
      "Woof Shashank!! My name is lab\n"
     ]
    }
   ],
   "source": [
    "Dog('lab','Frankie').bark('Shashank')"
   ]
  },
  {
   "cell_type": "code",
   "execution_count": 32,
   "metadata": {},
   "outputs": [
    {
     "name": "stdout",
     "output_type": "stream",
     "text": [
      "Woof Shashank!! My name is lab\n"
     ]
    }
   ],
   "source": [
    "my_dog.bark('Shashank')"
   ]
  },
  {
   "cell_type": "markdown",
   "metadata": {},
   "source": [
    "* <b>One more example</b>"
   ]
  },
  {
   "cell_type": "code",
   "execution_count": 42,
   "metadata": {},
   "outputs": [],
   "source": [
    "class Circle:\n",
    "    \n",
    "    # Class Object Attribute:\n",
    "    pi = 3.14\n",
    "    \n",
    "    def __init__(self, radius = 1):\n",
    "        self.radius = radius\n",
    "        self.area = radius*radius*Circle.pi\n",
    "        # self.area = radius*radius*self.pi. Self can also be used \n",
    "        # but for the readability of the code, we should always use Class name if using Class Object Attribute\n",
    "        \n",
    "        "
   ]
  },
  {
   "cell_type": "code",
   "execution_count": 43,
   "metadata": {},
   "outputs": [],
   "source": [
    "my_circle = Circle(radius=10)"
   ]
  },
  {
   "cell_type": "code",
   "execution_count": 44,
   "metadata": {},
   "outputs": [
    {
     "data": {
      "text/plain": [
       "314.0"
      ]
     },
     "execution_count": 44,
     "metadata": {},
     "output_type": "execute_result"
    }
   ],
   "source": [
    "my_circle.area"
   ]
  },
  {
   "cell_type": "code",
   "execution_count": null,
   "metadata": {},
   "outputs": [],
   "source": []
  }
 ],
 "metadata": {
  "kernelspec": {
   "display_name": "Python 3",
   "language": "python",
   "name": "python3"
  },
  "language_info": {
   "codemirror_mode": {
    "name": "ipython",
    "version": 3
   },
   "file_extension": ".py",
   "mimetype": "text/x-python",
   "name": "python",
   "nbconvert_exporter": "python",
   "pygments_lexer": "ipython3",
   "version": "3.7.6"
  }
 },
 "nbformat": 4,
 "nbformat_minor": 4
}
